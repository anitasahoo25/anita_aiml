{
  "nbformat": 4,
  "nbformat_minor": 0,
  "metadata": {
    "colab": {
      "provenance": [],
      "authorship_tag": "ABX9TyPQoa9IP2vJovx4013g3qfC",
      "include_colab_link": true
    },
    "kernelspec": {
      "name": "python3",
      "display_name": "Python 3"
    },
    "language_info": {
      "name": "python"
    }
  },
  "cells": [
    {
      "cell_type": "markdown",
      "metadata": {
        "id": "view-in-github",
        "colab_type": "text"
      },
      "source": [
        "<a href=\"https://colab.research.google.com/github/anitasahoo25/anita_aiml/blob/main/06_01_23.ipynb\" target=\"_parent\"><img src=\"https://colab.research.google.com/assets/colab-badge.svg\" alt=\"Open In Colab\"/></a>"
      ]
    },
    {
      "cell_type": "code",
      "execution_count": null,
      "metadata": {
        "colab": {
          "base_uri": "https://localhost:8080/"
        },
        "id": "W60XsdLWP7jB",
        "outputId": "17aef125-63cd-466b-e023-1efbde3ab78c"
      },
      "outputs": [
        {
          "output_type": "stream",
          "name": "stdout",
          "text": [
            "hello anita\n"
          ]
        }
      ],
      "source": [
        "print('hello anita')"
      ]
    },
    {
      "cell_type": "markdown",
      "source": [
        "using of parameters in print() statement ."
      ],
      "metadata": {
        "id": "eG4W-BV9YYog"
      }
    },
    {
      "cell_type": "code",
      "source": [
        "print('hello', end='\\n\\n')\n",
        "print('abit')"
      ],
      "metadata": {
        "colab": {
          "base_uri": "https://localhost:8080/"
        },
        "id": "c_Crhg5nYp32",
        "outputId": "581e4415-02bd-4e48-8b33-5e6c81873101"
      },
      "execution_count": null,
      "outputs": [
        {
          "output_type": "stream",
          "name": "stdout",
          "text": [
            "hello\n",
            "\n",
            "abit\n"
          ]
        }
      ]
    },
    {
      "cell_type": "code",
      "source": [
        "a=6\n",
        "b=1\n",
        "c=2023\n",
        "print(a,b,c ,sep='-')"
      ],
      "metadata": {
        "colab": {
          "base_uri": "https://localhost:8080/"
        },
        "id": "ogbNkig_a81y",
        "outputId": "d13e22fc-e973-46dc-f475-85407ab616df"
      },
      "execution_count": null,
      "outputs": [
        {
          "output_type": "stream",
          "name": "stdout",
          "text": [
            "6-1-2023\n"
          ]
        }
      ]
    },
    {
      "cell_type": "code",
      "source": [
        "a=100\n",
        "print('a=',a)"
      ],
      "metadata": {
        "colab": {
          "base_uri": "https://localhost:8080/"
        },
        "id": "3t7poeImbqum",
        "outputId": "30182d91-54de-4f67-ca81-1dbba91837a0"
      },
      "execution_count": null,
      "outputs": [
        {
          "output_type": "stream",
          "name": "stdout",
          "text": [
            "a= 100\n"
          ]
        }
      ]
    },
    {
      "cell_type": "code",
      "source": [
        "nm=input('enter name')\n",
        "print(nm)"
      ],
      "metadata": {
        "colab": {
          "base_uri": "https://localhost:8080/"
        },
        "id": "fEkdgwhJco5H",
        "outputId": "95db830e-0a5d-4ceb-e584-b929b976dcbe"
      },
      "execution_count": null,
      "outputs": [
        {
          "output_type": "stream",
          "name": "stdout",
          "text": [
            "enter nameguduly\n",
            "guduly\n"
          ]
        }
      ]
    },
    {
      "cell_type": "code",
      "source": [
        "# using of + operator.\n",
        "a =int(input(' enter a '))\n",
        "b =int(input(' enter b '))\n",
        "c = a+b\n",
        "print(' a+b = ' ,c)"
      ],
      "metadata": {
        "colab": {
          "base_uri": "https://localhost:8080/"
        },
        "id": "DvJGvO-LdH45",
        "outputId": "f2c87677-c8ca-4e6b-8ce2-8dd4bbf56ba3"
      },
      "execution_count": null,
      "outputs": [
        {
          "output_type": "stream",
          "name": "stdout",
          "text": [
            " enter a 22\n",
            " enter b 44\n",
            " a+b =  66\n"
          ]
        }
      ]
    },
    {
      "cell_type": "code",
      "source": [
        "\n",
        "# the type() function\n",
        "a = 100\n",
        "print(type(a))\n",
        "b = 33.55\n",
        "print(type(b))\n",
        "c = \"abit\"\n",
        "print(type(c))\n",
        "d = True\n",
        "print(type(d))"
      ],
      "metadata": {
        "colab": {
          "base_uri": "https://localhost:8080/"
        },
        "id": "2Xz0HjCdg9PK",
        "outputId": "d29a3f73-f678-43f6-cecd-a3f016347809"
      },
      "execution_count": null,
      "outputs": [
        {
          "output_type": "stream",
          "name": "stdout",
          "text": [
            "<class 'int'>\n",
            "<class 'float'>\n",
            "<class 'str'>\n",
            "<class 'bool'>\n"
          ]
        }
      ]
    },
    {
      "cell_type": "code",
      "source": [
        "x=0b10100\n",
        "y=100\n",
        "z=0o215\n",
        "u=0x12d\n",
        "float_1=100.5\n",
        "float_2=1.5e2\n",
        "a=5+3.14j\n",
        "print(x,y,z,u)\n",
        "print(float_1,float_2)\n",
        "print(a,a.imag,a.real)"
      ],
      "metadata": {
        "colab": {
          "base_uri": "https://localhost:8080/"
        },
        "id": "E0ZQ3ijcjBNK",
        "outputId": "cb6d666c-5c20-40b1-8222-dcbca0378aea"
      },
      "execution_count": null,
      "outputs": [
        {
          "output_type": "stream",
          "name": "stdout",
          "text": [
            "20 100 141 301\n",
            "100.5 150.0\n",
            "(5+3.14j) 3.14 5.0\n"
          ]
        }
      ]
    },
    {
      "cell_type": "code",
      "source": [
        "a=2+5j\n",
        "b=3+10j\n",
        "c=a+b\n",
        "print(c)"
      ],
      "metadata": {
        "colab": {
          "base_uri": "https://localhost:8080/"
        },
        "id": "KiKj3r6WlR_G",
        "outputId": "2fc02b01-4aea-49aa-f2b3-e5ca4bdc0fbc"
      },
      "execution_count": null,
      "outputs": [
        {
          "output_type": "stream",
          "name": "stdout",
          "text": [
            "(5+15j)\n"
          ]
        }
      ]
    },
    {
      "cell_type": "code",
      "source": [],
      "metadata": {
        "id": "Epzj7nw9mQUx"
      },
      "execution_count": null,
      "outputs": []
    }
  ]
}