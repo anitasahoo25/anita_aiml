{
  "nbformat": 4,
  "nbformat_minor": 0,
  "metadata": {
    "colab": {
      "provenance": [],
      "authorship_tag": "ABX9TyMUYRCsesZh69mJ4vLZBRfz",
      "include_colab_link": true
    },
    "kernelspec": {
      "name": "python3",
      "display_name": "Python 3"
    },
    "language_info": {
      "name": "python"
    }
  },
  "cells": [
    {
      "cell_type": "markdown",
      "metadata": {
        "id": "view-in-github",
        "colab_type": "text"
      },
      "source": [
        "<a href=\"https://colab.research.google.com/github/anitasahoo25/anita_aiml/blob/main/24_01_2023.ipynb\" target=\"_parent\"><img src=\"https://colab.research.google.com/assets/colab-badge.svg\" alt=\"Open In Colab\"/></a>"
      ]
    },
    {
      "cell_type": "markdown",
      "source": [
        "1.Input radius finds AREA OF CIRCLE and PERIMETER OF THE CIRCLE."
      ],
      "metadata": {
        "id": "rXjPtBVyD2th"
      }
    },
    {
      "cell_type": "code",
      "source": [
        "r=int(input(\"enter radius of the circle: \"))\n",
        "area=3.141*r*r\n",
        "perimeter=2*3.141*r\n",
        "print(\"the area of circle of given circle is=\",area)\n",
        "print(\"the perimeter of circle of given circle is=\",perimeter)"
      ],
      "metadata": {
        "colab": {
          "base_uri": "https://localhost:8080/"
        },
        "id": "WpnCcqjKEij-",
        "outputId": "ecad53e7-d777-4462-9f68-7de54c0655c1"
      },
      "execution_count": null,
      "outputs": [
        {
          "output_type": "stream",
          "name": "stdout",
          "text": [
            "enter radius of the circle: 4\n",
            "the area of circle of given circle is= 50.256\n",
            "the perimeter of circle of given circle is= 25.128\n"
          ]
        }
      ]
    },
    {
      "cell_type": "markdown",
      "source": [
        "2.Input kilometer converts to centimeter,meter,and ,millimeter."
      ],
      "metadata": {
        "id": "N7J-fQuJFsZ0"
      }
    },
    {
      "cell_type": "code",
      "source": [
        "kilometers=float(input(\"please enter the kilometers=\"))\n",
        "meter=kilometers*1000\n",
        "centimeter=kilometers*100000\n",
        "millimeter=kilometers*1000000\n",
        "print(\"%.2f kilometers = %.2f meters\" % (kilometers,meter))\n",
        "print(\"%.2f kilometers = %.2f centimeters\" % (kilometers,centimeter))\n",
        "print(\"%.2f kilometers = %.2f millimeters\" % (kilometers,millimeter))"
      ],
      "metadata": {
        "colab": {
          "base_uri": "https://localhost:8080/"
        },
        "id": "3SPD2ebnF9sm",
        "outputId": "57e30565-f270-4b11-fb29-7341ce715c0c"
      },
      "execution_count": null,
      "outputs": [
        {
          "output_type": "stream",
          "name": "stdout",
          "text": [
            "please enter the kilometers=2.5\n",
            "2.50 kilometers = 2500.00 meters\n",
            "2.50 kilometers = 250000.00 centimeters\n",
            "2.50 kilometers = 2500000.00 millimeters\n"
          ]
        }
      ]
    },
    {
      "cell_type": "markdown",
      "source": [
        "3.Inuput two numbers find sum without '+' operator. "
      ],
      "metadata": {
        "id": "Nnv0WGrsHn_M"
      }
    },
    {
      "cell_type": "code",
      "source": [
        "a=int(input(\"enter a value=\"))\n",
        "b=int(input(\"enter b value=\"))\n",
        "def sum(a,b):\n",
        "  for i in range(1,b+1):\n",
        "    a=a+1\n",
        "  return a\n",
        "print('sum of numbers=',sum(a,b))"
      ],
      "metadata": {
        "colab": {
          "base_uri": "https://localhost:8080/"
        },
        "id": "BZqcJha1H3tr",
        "outputId": "6b54f1c9-da29-4eb1-cde0-90e80abe9f1a"
      },
      "execution_count": null,
      "outputs": [
        {
          "output_type": "stream",
          "name": "stdout",
          "text": [
            "enter a value=65\n",
            "enter b value=24\n",
            "sum of numbers= 89\n"
          ]
        }
      ]
    },
    {
      "cell_type": "markdown",
      "source": [
        "4.Input two numbers find remainder without '%'."
      ],
      "metadata": {
        "id": "32-lLiZJI0CP"
      }
    },
    {
      "cell_type": "code",
      "source": [
        "a=int(input(\"enter a vaslue=\"))\n",
        "b=int(input(\"enter b value=\"))\n",
        "def rem (a,b):\n",
        "  return(a-b*(a//b))\n",
        "print(\"the remainder is=\",rem(a,b))"
      ],
      "metadata": {
        "colab": {
          "base_uri": "https://localhost:8080/"
        },
        "id": "G9mbwOaNI_PQ",
        "outputId": "90dfda74-55d5-40dc-e22f-abb03849b6b1"
      },
      "execution_count": null,
      "outputs": [
        {
          "output_type": "stream",
          "name": "stdout",
          "text": [
            "enter a vaslue=200\n",
            "enter b value=6\n",
            "the remainder is= 2\n"
          ]
        }
      ]
    },
    {
      "cell_type": "markdown",
      "source": [
        "5.Input temperature finds Celsius and Fahrenheit and vice-versa"
      ],
      "metadata": {
        "id": "OmHmJ2GxJ5Fj"
      }
    },
    {
      "cell_type": "code",
      "source": [],
      "metadata": {
        "id": "kP6g97G0KTGR"
      },
      "execution_count": null,
      "outputs": []
    },
    {
      "cell_type": "markdown",
      "source": [
        "6.Input a number finds reverse number without looping structure."
      ],
      "metadata": {
        "id": "5zBFx4oUKUKR"
      }
    },
    {
      "cell_type": "code",
      "source": [
        "num=12345\n",
        "reverse =int(str(num)[::-1])\n",
        "print('the reverse number is =',reverse)"
      ],
      "metadata": {
        "colab": {
          "base_uri": "https://localhost:8080/"
        },
        "id": "aBMNaI8TKh6e",
        "outputId": "dfb76a36-39fb-4031-855f-ffd346abc12f"
      },
      "execution_count": null,
      "outputs": [
        {
          "output_type": "stream",
          "name": "stdout",
          "text": [
            "the reverse number is = 54321\n"
          ]
        }
      ]
    }
  ]
}